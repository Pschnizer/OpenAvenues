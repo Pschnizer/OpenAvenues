{
 "cells": [
  {
   "cell_type": "markdown",
   "id": "b75cb7ca",
   "metadata": {},
   "source": [
    "# Exploratory Analysis"
   ]
  },
  {
   "cell_type": "code",
   "execution_count": 1,
   "id": "6af8f13f",
   "metadata": {},
   "outputs": [],
   "source": [
    "import pandas as pd\n",
    "import numpy as np\n",
    "\n",
    "pd.set_option('max_colwidth', None)\n",
    "pd.set_option('display.max_columns', None)\n",
    "import warnings \n",
    "warnings.filterwarnings(\"ignore\")"
   ]
  },
  {
   "cell_type": "code",
   "execution_count": 2,
   "id": "547f7f31",
   "metadata": {},
   "outputs": [],
   "source": [
    "results = pd.read_csv('data/1345_customer_results.csv', index_col = \"Case ID\")"
   ]
  },
  {
   "cell_type": "code",
   "execution_count": 3,
   "id": "62e999ac",
   "metadata": {},
   "outputs": [
    {
     "data": {
      "text/html": [
       "<div>\n",
       "<style scoped>\n",
       "    .dataframe tbody tr th:only-of-type {\n",
       "        vertical-align: middle;\n",
       "    }\n",
       "\n",
       "    .dataframe tbody tr th {\n",
       "        vertical-align: top;\n",
       "    }\n",
       "\n",
       "    .dataframe thead th {\n",
       "        text-align: right;\n",
       "    }\n",
       "</style>\n",
       "<table border=\"1\" class=\"dataframe\">\n",
       "  <thead>\n",
       "    <tr style=\"text-align: right;\">\n",
       "      <th></th>\n",
       "      <th>Origin</th>\n",
       "      <th>Origin Created At</th>\n",
       "      <th>Content ID</th>\n",
       "      <th>URL</th>\n",
       "      <th>Labeling State</th>\n",
       "      <th>Series</th>\n",
       "      <th>Series Index</th>\n",
       "      <th>Patch</th>\n",
       "      <th>Qualified Reads</th>\n",
       "      <th>Correct Label</th>\n",
       "      <th>Majority Label</th>\n",
       "      <th>Difficulty</th>\n",
       "      <th>Agreement</th>\n",
       "      <th>First Choice Answer</th>\n",
       "      <th>First Choice Votes</th>\n",
       "      <th>First Choice Weight</th>\n",
       "      <th>Second Choice Answer</th>\n",
       "      <th>Second Choice Votes</th>\n",
       "      <th>Second Choice Weight</th>\n",
       "      <th>Internal Notes</th>\n",
       "      <th>Comments</th>\n",
       "      <th>Explanation</th>\n",
       "    </tr>\n",
       "    <tr>\n",
       "      <th>Case ID</th>\n",
       "      <th></th>\n",
       "      <th></th>\n",
       "      <th></th>\n",
       "      <th></th>\n",
       "      <th></th>\n",
       "      <th></th>\n",
       "      <th></th>\n",
       "      <th></th>\n",
       "      <th></th>\n",
       "      <th></th>\n",
       "      <th></th>\n",
       "      <th></th>\n",
       "      <th></th>\n",
       "      <th></th>\n",
       "      <th></th>\n",
       "      <th></th>\n",
       "      <th></th>\n",
       "      <th></th>\n",
       "      <th></th>\n",
       "      <th></th>\n",
       "      <th></th>\n",
       "      <th></th>\n",
       "    </tr>\n",
       "  </thead>\n",
       "  <tbody>\n",
       "    <tr>\n",
       "      <th>5888087</th>\n",
       "      <td>https://centaur-customer-uploads.s3.us-east-1.amazonaws.com/mgh-eeg/210721/jpg/B14_time139137_medoid_vote2.jpg</td>\n",
       "      <td>Jul 26 2021 21:41:47 PM</td>\n",
       "      <td>3264386</td>\n",
       "      <td>https://go.centaurlabs.com/problem/5888087</td>\n",
       "      <td>Gold Standard</td>\n",
       "      <td>NaN</td>\n",
       "      <td>NaN</td>\n",
       "      <td>NaN</td>\n",
       "      <td>2</td>\n",
       "      <td>'no'</td>\n",
       "      <td>'no'</td>\n",
       "      <td>0.0</td>\n",
       "      <td>1.0</td>\n",
       "      <td>'no'</td>\n",
       "      <td>2</td>\n",
       "      <td>1.54</td>\n",
       "      <td>'yes'</td>\n",
       "      <td>0</td>\n",
       "      <td>0.0</td>\n",
       "      <td>NaN</td>\n",
       "      <td>[]</td>\n",
       "      <td>NaN</td>\n",
       "    </tr>\n",
       "    <tr>\n",
       "      <th>5888088</th>\n",
       "      <td>https://centaur-customer-uploads.s3.us-east-1.amazonaws.com/mgh-eeg/210721/jpg/B10_time178433_medoid_vote0.jpg</td>\n",
       "      <td>Jul 26 2021 21:41:47 PM</td>\n",
       "      <td>3264387</td>\n",
       "      <td>https://go.centaurlabs.com/problem/5888088</td>\n",
       "      <td>Gold Standard</td>\n",
       "      <td>NaN</td>\n",
       "      <td>NaN</td>\n",
       "      <td>NaN</td>\n",
       "      <td>3</td>\n",
       "      <td>'no'</td>\n",
       "      <td>'no'</td>\n",
       "      <td>0.0</td>\n",
       "      <td>1.0</td>\n",
       "      <td>'no'</td>\n",
       "      <td>3</td>\n",
       "      <td>2.34</td>\n",
       "      <td>'yes'</td>\n",
       "      <td>0</td>\n",
       "      <td>0.0</td>\n",
       "      <td>NaN</td>\n",
       "      <td>[]</td>\n",
       "      <td>NaN</td>\n",
       "    </tr>\n",
       "  </tbody>\n",
       "</table>\n",
       "</div>"
      ],
      "text/plain": [
       "                                                                                                                 Origin  \\\n",
       "Case ID                                                                                                                   \n",
       "5888087  https://centaur-customer-uploads.s3.us-east-1.amazonaws.com/mgh-eeg/210721/jpg/B14_time139137_medoid_vote2.jpg   \n",
       "5888088  https://centaur-customer-uploads.s3.us-east-1.amazonaws.com/mgh-eeg/210721/jpg/B10_time178433_medoid_vote0.jpg   \n",
       "\n",
       "               Origin Created At  Content ID  \\\n",
       "Case ID                                        \n",
       "5888087  Jul 26 2021 21:41:47 PM     3264386   \n",
       "5888088  Jul 26 2021 21:41:47 PM     3264387   \n",
       "\n",
       "                                                URL Labeling State  Series  \\\n",
       "Case ID                                                                      \n",
       "5888087  https://go.centaurlabs.com/problem/5888087  Gold Standard     NaN   \n",
       "5888088  https://go.centaurlabs.com/problem/5888088  Gold Standard     NaN   \n",
       "\n",
       "         Series Index  Patch  Qualified Reads Correct Label Majority Label  \\\n",
       "Case ID                                                                      \n",
       "5888087           NaN    NaN                2          'no'           'no'   \n",
       "5888088           NaN    NaN                3          'no'           'no'   \n",
       "\n",
       "         Difficulty  Agreement First Choice Answer  First Choice Votes  \\\n",
       "Case ID                                                                  \n",
       "5888087         0.0        1.0                'no'                   2   \n",
       "5888088         0.0        1.0                'no'                   3   \n",
       "\n",
       "         First Choice Weight Second Choice Answer  Second Choice Votes  \\\n",
       "Case ID                                                                  \n",
       "5888087                 1.54                'yes'                    0   \n",
       "5888088                 2.34                'yes'                    0   \n",
       "\n",
       "         Second Choice Weight  Internal Notes Comments  Explanation  \n",
       "Case ID                                                              \n",
       "5888087                   0.0             NaN       []          NaN  \n",
       "5888088                   0.0             NaN       []          NaN  "
      ]
     },
     "execution_count": 3,
     "metadata": {},
     "output_type": "execute_result"
    }
   ],
   "source": [
    "results.head(2)"
   ]
  },
  {
   "cell_type": "markdown",
   "id": "fbd7cf17",
   "metadata": {},
   "source": [
    "---\n",
    "### Cleaning the Data\n",
    "\n",
    "- Throwing out columns with invalid vote numbers\n",
    "- Creating an expert vote column\n",
    "- Removing useless columns"
   ]
  },
  {
   "cell_type": "code",
   "execution_count": 4,
   "id": "bcf1a573",
   "metadata": {},
   "outputs": [
    {
     "data": {
      "text/plain": [
       "True     27000\n",
       "False     3293\n",
       "Name: Origin, dtype: int64"
      ]
     },
     "execution_count": 4,
     "metadata": {},
     "output_type": "execute_result"
    }
   ],
   "source": [
    "# Filtering out the rows without a vote number\n",
    "vote_exists = results['Origin'].str.fullmatch(r'(.*)vote[0-8](.*)', case=False)\n",
    "vote_exists.value_counts()"
   ]
  },
  {
   "cell_type": "code",
   "execution_count": 5,
   "id": "9437e07f",
   "metadata": {},
   "outputs": [
    {
     "data": {
      "text/html": [
       "<div>\n",
       "<style scoped>\n",
       "    .dataframe tbody tr th:only-of-type {\n",
       "        vertical-align: middle;\n",
       "    }\n",
       "\n",
       "    .dataframe tbody tr th {\n",
       "        vertical-align: top;\n",
       "    }\n",
       "\n",
       "    .dataframe thead th {\n",
       "        text-align: right;\n",
       "    }\n",
       "</style>\n",
       "<table border=\"1\" class=\"dataframe\">\n",
       "  <thead>\n",
       "    <tr style=\"text-align: right;\">\n",
       "      <th></th>\n",
       "      <th>Origin</th>\n",
       "      <th>Origin Created At</th>\n",
       "      <th>Content ID</th>\n",
       "      <th>URL</th>\n",
       "      <th>Labeling State</th>\n",
       "      <th>Series</th>\n",
       "      <th>Series Index</th>\n",
       "      <th>Patch</th>\n",
       "      <th>Qualified Reads</th>\n",
       "      <th>Correct Label</th>\n",
       "      <th>Majority Label</th>\n",
       "      <th>Difficulty</th>\n",
       "      <th>Agreement</th>\n",
       "      <th>First Choice Answer</th>\n",
       "      <th>First Choice Votes</th>\n",
       "      <th>First Choice Weight</th>\n",
       "      <th>Second Choice Answer</th>\n",
       "      <th>Second Choice Votes</th>\n",
       "      <th>Second Choice Weight</th>\n",
       "      <th>Internal Notes</th>\n",
       "      <th>Comments</th>\n",
       "      <th>Explanation</th>\n",
       "      <th>N Expert Affirmation</th>\n",
       "    </tr>\n",
       "    <tr>\n",
       "      <th>Case ID</th>\n",
       "      <th></th>\n",
       "      <th></th>\n",
       "      <th></th>\n",
       "      <th></th>\n",
       "      <th></th>\n",
       "      <th></th>\n",
       "      <th></th>\n",
       "      <th></th>\n",
       "      <th></th>\n",
       "      <th></th>\n",
       "      <th></th>\n",
       "      <th></th>\n",
       "      <th></th>\n",
       "      <th></th>\n",
       "      <th></th>\n",
       "      <th></th>\n",
       "      <th></th>\n",
       "      <th></th>\n",
       "      <th></th>\n",
       "      <th></th>\n",
       "      <th></th>\n",
       "      <th></th>\n",
       "      <th></th>\n",
       "    </tr>\n",
       "  </thead>\n",
       "  <tbody>\n",
       "    <tr>\n",
       "      <th>5888087</th>\n",
       "      <td>https://centaur-customer-uploads.s3.us-east-1.amazonaws.com/mgh-eeg/210721/jpg/B14_time139137_medoid_vote2.jpg</td>\n",
       "      <td>Jul 26 2021 21:41:47 PM</td>\n",
       "      <td>3264386</td>\n",
       "      <td>https://go.centaurlabs.com/problem/5888087</td>\n",
       "      <td>Gold Standard</td>\n",
       "      <td>NaN</td>\n",
       "      <td>NaN</td>\n",
       "      <td>NaN</td>\n",
       "      <td>2</td>\n",
       "      <td>'no'</td>\n",
       "      <td>'no'</td>\n",
       "      <td>0.0</td>\n",
       "      <td>1.0</td>\n",
       "      <td>'no'</td>\n",
       "      <td>2</td>\n",
       "      <td>1.54</td>\n",
       "      <td>'yes'</td>\n",
       "      <td>0</td>\n",
       "      <td>0.0</td>\n",
       "      <td>NaN</td>\n",
       "      <td>[]</td>\n",
       "      <td>NaN</td>\n",
       "      <td>2</td>\n",
       "    </tr>\n",
       "    <tr>\n",
       "      <th>5888088</th>\n",
       "      <td>https://centaur-customer-uploads.s3.us-east-1.amazonaws.com/mgh-eeg/210721/jpg/B10_time178433_medoid_vote0.jpg</td>\n",
       "      <td>Jul 26 2021 21:41:47 PM</td>\n",
       "      <td>3264387</td>\n",
       "      <td>https://go.centaurlabs.com/problem/5888088</td>\n",
       "      <td>Gold Standard</td>\n",
       "      <td>NaN</td>\n",
       "      <td>NaN</td>\n",
       "      <td>NaN</td>\n",
       "      <td>3</td>\n",
       "      <td>'no'</td>\n",
       "      <td>'no'</td>\n",
       "      <td>0.0</td>\n",
       "      <td>1.0</td>\n",
       "      <td>'no'</td>\n",
       "      <td>3</td>\n",
       "      <td>2.34</td>\n",
       "      <td>'yes'</td>\n",
       "      <td>0</td>\n",
       "      <td>0.0</td>\n",
       "      <td>NaN</td>\n",
       "      <td>[]</td>\n",
       "      <td>NaN</td>\n",
       "      <td>0</td>\n",
       "    </tr>\n",
       "  </tbody>\n",
       "</table>\n",
       "</div>"
      ],
      "text/plain": [
       "                                                                                                                 Origin  \\\n",
       "Case ID                                                                                                                   \n",
       "5888087  https://centaur-customer-uploads.s3.us-east-1.amazonaws.com/mgh-eeg/210721/jpg/B14_time139137_medoid_vote2.jpg   \n",
       "5888088  https://centaur-customer-uploads.s3.us-east-1.amazonaws.com/mgh-eeg/210721/jpg/B10_time178433_medoid_vote0.jpg   \n",
       "\n",
       "               Origin Created At  Content ID  \\\n",
       "Case ID                                        \n",
       "5888087  Jul 26 2021 21:41:47 PM     3264386   \n",
       "5888088  Jul 26 2021 21:41:47 PM     3264387   \n",
       "\n",
       "                                                URL Labeling State  Series  \\\n",
       "Case ID                                                                      \n",
       "5888087  https://go.centaurlabs.com/problem/5888087  Gold Standard     NaN   \n",
       "5888088  https://go.centaurlabs.com/problem/5888088  Gold Standard     NaN   \n",
       "\n",
       "         Series Index  Patch  Qualified Reads Correct Label Majority Label  \\\n",
       "Case ID                                                                      \n",
       "5888087           NaN    NaN                2          'no'           'no'   \n",
       "5888088           NaN    NaN                3          'no'           'no'   \n",
       "\n",
       "         Difficulty  Agreement First Choice Answer  First Choice Votes  \\\n",
       "Case ID                                                                  \n",
       "5888087         0.0        1.0                'no'                   2   \n",
       "5888088         0.0        1.0                'no'                   3   \n",
       "\n",
       "         First Choice Weight Second Choice Answer  Second Choice Votes  \\\n",
       "Case ID                                                                  \n",
       "5888087                 1.54                'yes'                    0   \n",
       "5888088                 2.34                'yes'                    0   \n",
       "\n",
       "         Second Choice Weight  Internal Notes Comments  Explanation  \\\n",
       "Case ID                                                               \n",
       "5888087                   0.0             NaN       []          NaN   \n",
       "5888088                   0.0             NaN       []          NaN   \n",
       "\n",
       "         N Expert Affirmation  \n",
       "Case ID                        \n",
       "5888087                     2  \n",
       "5888088                     0  "
      ]
     },
     "execution_count": 5,
     "metadata": {},
     "output_type": "execute_result"
    }
   ],
   "source": [
    "# Dropping the rows without vote number\n",
    "results_vote_exists = results[vote_exists]\n",
    "\n",
    "# Adding expert vote column\n",
    "results_vote_exists['N Expert Affirmation'] = results_vote_exists['Origin'].str.extract(r'vote(\\d)').astype(int)\n",
    "results_vote_exists.head(2)"
   ]
  },
  {
   "cell_type": "code",
   "execution_count": 6,
   "id": "433e53e1",
   "metadata": {},
   "outputs": [],
   "source": [
    "# Filtering out useless columns\n",
    "reduced = results_vote_exists[['Labeling State', 'Qualified Reads', 'Correct Label', 'Majority Label', 'Difficulty', 'Agreement', 'First Choice Weight', 'Second Choice Weight', 'N Expert Affirmation']]"
   ]
  },
  {
   "cell_type": "code",
   "execution_count": 7,
   "id": "fef33368",
   "metadata": {},
   "outputs": [
    {
     "data": {
      "text/html": [
       "<div>\n",
       "<style scoped>\n",
       "    .dataframe tbody tr th:only-of-type {\n",
       "        vertical-align: middle;\n",
       "    }\n",
       "\n",
       "    .dataframe tbody tr th {\n",
       "        vertical-align: top;\n",
       "    }\n",
       "\n",
       "    .dataframe thead th {\n",
       "        text-align: right;\n",
       "    }\n",
       "</style>\n",
       "<table border=\"1\" class=\"dataframe\">\n",
       "  <thead>\n",
       "    <tr style=\"text-align: right;\">\n",
       "      <th></th>\n",
       "      <th>Labeling State</th>\n",
       "      <th>Qualified Reads</th>\n",
       "      <th>Correct Label</th>\n",
       "      <th>Majority Label</th>\n",
       "      <th>Difficulty</th>\n",
       "      <th>Agreement</th>\n",
       "      <th>First Choice Weight</th>\n",
       "      <th>Second Choice Weight</th>\n",
       "      <th>N Expert Affirmation</th>\n",
       "    </tr>\n",
       "    <tr>\n",
       "      <th>Case ID</th>\n",
       "      <th></th>\n",
       "      <th></th>\n",
       "      <th></th>\n",
       "      <th></th>\n",
       "      <th></th>\n",
       "      <th></th>\n",
       "      <th></th>\n",
       "      <th></th>\n",
       "      <th></th>\n",
       "    </tr>\n",
       "  </thead>\n",
       "  <tbody>\n",
       "    <tr>\n",
       "      <th>5888087</th>\n",
       "      <td>Gold Standard</td>\n",
       "      <td>2</td>\n",
       "      <td>'no'</td>\n",
       "      <td>'no'</td>\n",
       "      <td>0.0</td>\n",
       "      <td>1.0</td>\n",
       "      <td>1.54</td>\n",
       "      <td>0.0</td>\n",
       "      <td>2</td>\n",
       "    </tr>\n",
       "    <tr>\n",
       "      <th>5888088</th>\n",
       "      <td>Gold Standard</td>\n",
       "      <td>3</td>\n",
       "      <td>'no'</td>\n",
       "      <td>'no'</td>\n",
       "      <td>0.0</td>\n",
       "      <td>1.0</td>\n",
       "      <td>2.34</td>\n",
       "      <td>0.0</td>\n",
       "      <td>0</td>\n",
       "    </tr>\n",
       "  </tbody>\n",
       "</table>\n",
       "</div>"
      ],
      "text/plain": [
       "        Labeling State  Qualified Reads Correct Label Majority Label  \\\n",
       "Case ID                                                                \n",
       "5888087  Gold Standard                2          'no'           'no'   \n",
       "5888088  Gold Standard                3          'no'           'no'   \n",
       "\n",
       "         Difficulty  Agreement  First Choice Weight  Second Choice Weight  \\\n",
       "Case ID                                                                     \n",
       "5888087         0.0        1.0                 1.54                   0.0   \n",
       "5888088         0.0        1.0                 2.34                   0.0   \n",
       "\n",
       "         N Expert Affirmation  \n",
       "Case ID                        \n",
       "5888087                     2  \n",
       "5888088                     0  "
      ]
     },
     "execution_count": 7,
     "metadata": {},
     "output_type": "execute_result"
    }
   ],
   "source": [
    "reduced.head(2)"
   ]
  },
  {
   "cell_type": "markdown",
   "id": "31169ce0",
   "metadata": {},
   "source": [
    "**Columns dropped:**\n",
    "\n",
    "- First choice answer, votes\n",
    "- Second choice answer, votes\n",
    "- Qualitative columns besides Labeling State\n",
    "\n",
    "**Explanation:** In dropping these columns, no useful information is lost. The first choice answer and second choice answer can be gained form the Majority Label. The number of votes can be obtained by comparing Qualified Reads with Agreement. The qualitative columns cannot be used in a meaningful way for analysis.\n",
    "\n"
   ]
  },
  {
   "cell_type": "markdown",
   "id": "91a31195",
   "metadata": {},
   "source": [
    "---\n",
    "### Adding Potentially Useful Columns\n",
    "\n",
    "- **Adding an expert agreement column**\n",
    "    - Renaming crowd agreement column to avoid confusion\n",
    "    \n",
    "This should help with comparisons between the crowd's confidence and the experts' confidence.\n",
    "\n",
    "- **Adding a consensus column for whether or not the crowd and experts agree**\n",
    "\n",
    "This should make it easier to compare whether the crowd agrees with the expert consensus more than individual experts do (our objective)."
   ]
  },
  {
   "cell_type": "code",
   "execution_count": 8,
   "id": "29404991",
   "metadata": {
    "scrolled": true
   },
   "outputs": [],
   "source": [
    "# Adding expert agreement column\n",
    "reduced['Expert Agreement'] = ''\n",
    "greater = reduced['N Expert Affirmation'] > 4\n",
    "less = reduced['N Expert Affirmation'] < 4\n",
    "even = reduced['N Expert Affirmation'] == 4\n",
    "reduced['Expert Agreement'][greater] = reduced['N Expert Affirmation'][greater] / 8\n",
    "reduced['Expert Agreement'][less] = 1 - (reduced['N Expert Affirmation'][less] / 8)\n",
    "reduced['Expert Agreement'][even] = 0.5"
   ]
  },
  {
   "cell_type": "code",
   "execution_count": 9,
   "id": "bca580a6",
   "metadata": {},
   "outputs": [],
   "source": [
    "# Adding consensus column\n",
    "reduced['Consensus'] = ''\n",
    "consensus = reduced['Correct Label'] == reduced['Majority Label']\n",
    "disagreements = ~consensus\n",
    "reduced['Consensus'][consensus] = 'yes'\n",
    "reduced['Consensus'][disagreements] = 'no'"
   ]
  },
  {
   "cell_type": "code",
   "execution_count": 10,
   "id": "6146d57f",
   "metadata": {},
   "outputs": [
    {
     "data": {
      "text/html": [
       "<div>\n",
       "<style scoped>\n",
       "    .dataframe tbody tr th:only-of-type {\n",
       "        vertical-align: middle;\n",
       "    }\n",
       "\n",
       "    .dataframe tbody tr th {\n",
       "        vertical-align: top;\n",
       "    }\n",
       "\n",
       "    .dataframe thead th {\n",
       "        text-align: right;\n",
       "    }\n",
       "</style>\n",
       "<table border=\"1\" class=\"dataframe\">\n",
       "  <thead>\n",
       "    <tr style=\"text-align: right;\">\n",
       "      <th></th>\n",
       "      <th>Labeling State</th>\n",
       "      <th>Qualified Reads</th>\n",
       "      <th>Correct Label</th>\n",
       "      <th>Majority Label</th>\n",
       "      <th>Difficulty</th>\n",
       "      <th>Agreement</th>\n",
       "      <th>First Choice Weight</th>\n",
       "      <th>Second Choice Weight</th>\n",
       "      <th>N Expert Affirmation</th>\n",
       "      <th>Expert Agreement</th>\n",
       "      <th>Consensus</th>\n",
       "    </tr>\n",
       "    <tr>\n",
       "      <th>Case ID</th>\n",
       "      <th></th>\n",
       "      <th></th>\n",
       "      <th></th>\n",
       "      <th></th>\n",
       "      <th></th>\n",
       "      <th></th>\n",
       "      <th></th>\n",
       "      <th></th>\n",
       "      <th></th>\n",
       "      <th></th>\n",
       "      <th></th>\n",
       "    </tr>\n",
       "  </thead>\n",
       "  <tbody>\n",
       "    <tr>\n",
       "      <th>5888087</th>\n",
       "      <td>Gold Standard</td>\n",
       "      <td>2</td>\n",
       "      <td>'no'</td>\n",
       "      <td>'no'</td>\n",
       "      <td>0.0</td>\n",
       "      <td>1.000</td>\n",
       "      <td>1.54</td>\n",
       "      <td>0.00</td>\n",
       "      <td>2</td>\n",
       "      <td>0.75</td>\n",
       "      <td>yes</td>\n",
       "    </tr>\n",
       "    <tr>\n",
       "      <th>5888088</th>\n",
       "      <td>Gold Standard</td>\n",
       "      <td>3</td>\n",
       "      <td>'no'</td>\n",
       "      <td>'no'</td>\n",
       "      <td>0.0</td>\n",
       "      <td>1.000</td>\n",
       "      <td>2.34</td>\n",
       "      <td>0.00</td>\n",
       "      <td>0</td>\n",
       "      <td>1.0</td>\n",
       "      <td>yes</td>\n",
       "    </tr>\n",
       "    <tr>\n",
       "      <th>5888089</th>\n",
       "      <td>Gold Standard</td>\n",
       "      <td>2</td>\n",
       "      <td>'no'</td>\n",
       "      <td>'no'</td>\n",
       "      <td>0.0</td>\n",
       "      <td>1.000</td>\n",
       "      <td>1.70</td>\n",
       "      <td>0.00</td>\n",
       "      <td>0</td>\n",
       "      <td>1.0</td>\n",
       "      <td>yes</td>\n",
       "    </tr>\n",
       "    <tr>\n",
       "      <th>5888090</th>\n",
       "      <td>Gold Standard</td>\n",
       "      <td>1</td>\n",
       "      <td>'no'</td>\n",
       "      <td>'no'</td>\n",
       "      <td>0.0</td>\n",
       "      <td>1.000</td>\n",
       "      <td>0.82</td>\n",
       "      <td>0.00</td>\n",
       "      <td>0</td>\n",
       "      <td>1.0</td>\n",
       "      <td>yes</td>\n",
       "    </tr>\n",
       "    <tr>\n",
       "      <th>5888091</th>\n",
       "      <td>In Progress</td>\n",
       "      <td>7</td>\n",
       "      <td>NaN</td>\n",
       "      <td>'yes'</td>\n",
       "      <td>NaN</td>\n",
       "      <td>0.571</td>\n",
       "      <td>3.28</td>\n",
       "      <td>2.32</td>\n",
       "      <td>4</td>\n",
       "      <td>0.5</td>\n",
       "      <td>no</td>\n",
       "    </tr>\n",
       "  </tbody>\n",
       "</table>\n",
       "</div>"
      ],
      "text/plain": [
       "        Labeling State  Qualified Reads Correct Label Majority Label  \\\n",
       "Case ID                                                                \n",
       "5888087  Gold Standard                2          'no'           'no'   \n",
       "5888088  Gold Standard                3          'no'           'no'   \n",
       "5888089  Gold Standard                2          'no'           'no'   \n",
       "5888090  Gold Standard                1          'no'           'no'   \n",
       "5888091    In Progress                7           NaN          'yes'   \n",
       "\n",
       "         Difficulty  Agreement  First Choice Weight  Second Choice Weight  \\\n",
       "Case ID                                                                     \n",
       "5888087         0.0      1.000                 1.54                  0.00   \n",
       "5888088         0.0      1.000                 2.34                  0.00   \n",
       "5888089         0.0      1.000                 1.70                  0.00   \n",
       "5888090         0.0      1.000                 0.82                  0.00   \n",
       "5888091         NaN      0.571                 3.28                  2.32   \n",
       "\n",
       "         N Expert Affirmation Expert Agreement Consensus  \n",
       "Case ID                                                   \n",
       "5888087                     2             0.75       yes  \n",
       "5888088                     0              1.0       yes  \n",
       "5888089                     0              1.0       yes  \n",
       "5888090                     0              1.0       yes  \n",
       "5888091                     4              0.5        no  "
      ]
     },
     "execution_count": 10,
     "metadata": {},
     "output_type": "execute_result"
    }
   ],
   "source": [
    "reduced.head()"
   ]
  },
  {
   "cell_type": "code",
   "execution_count": 11,
   "id": "b92ca514",
   "metadata": {},
   "outputs": [],
   "source": [
    "reduced = reduced.rename(columns={'Agreement':'Crowd Agreement'})"
   ]
  },
  {
   "cell_type": "markdown",
   "id": "cea7cea0",
   "metadata": {},
   "source": [
    "---\n",
    "# Descriptive Analysis"
   ]
  },
  {
   "cell_type": "markdown",
   "id": "596c2a92",
   "metadata": {},
   "source": [
    "### Looking at Split Opinions"
   ]
  },
  {
   "cell_type": "code",
   "execution_count": 12,
   "id": "5d3ea78e",
   "metadata": {},
   "outputs": [
    {
     "name": "stdout",
     "output_type": "stream",
     "text": [
      "1508 instances of split crowd opinions\n",
      "3000 instances of split expert opinions\n",
      "0.8268833333333334 crowd agreement when experts were split\n",
      "0.7514091511936339 expert agreement when crowd was split\n"
     ]
    },
    {
     "data": {
      "image/png": "[encoded data removed]",
      "text/plain": [
       "<Figure size 300x300 with 1 Axes>"
      ]
     },
     "metadata": {},
     "output_type": "display_data"
    }
   ],
   "source": [
    "import matplotlib.pyplot as plt\n",
    "expert_ties = reduced[reduced['Labeling State'] == 'In Progress']\n",
    "crowd_ties = reduced[reduced['Crowd Agreement'] == 0.5]\n",
    "crowd_agreement = np.mean(expert_ties['Crowd Agreement'])\n",
    "expert_agreement = np.mean(crowd_ties['Expert Agreement'])\n",
    "print(f'{len(crowd_ties)} instances of split crowd opinions')\n",
    "print(f'{len(expert_ties)} instances of split expert opinions')\n",
    "print(f'{np.mean(crowd_agreement)} crowd agreement when experts were split')\n",
    "print(f'{np.mean(expert_agreement)} expert agreement when crowd was split')  \n",
    "plt.figure(figsize=(3,3))\n",
    "plt.bar(x = ['Crowd Agreement', 'Expert Agreement'], height = [crowd_agreement, expert_agreement], width = 0.6)\n",
    "plt.title('Agreement When Others Are Split')\n",
    "plt.xticks(fontsize=9)\n",
    "plt.show()"
   ]
  },
  {
   "cell_type": "markdown",
   "id": "1dd0eaa9",
   "metadata": {},
   "source": [
    "- Crowd has split opinions less often\n",
    "- Crowd is more confident when experts are split, than experts are when crowd is split"
   ]
  },
  {
   "cell_type": "markdown",
   "id": "662e8597",
   "metadata": {},
   "source": [
    "### Agreement with Expert Consensus"
   ]
  },
  {
   "cell_type": "code",
   "execution_count": 13,
   "id": "cc465bb7",
   "metadata": {},
   "outputs": [
    {
     "name": "stdout",
     "output_type": "stream",
     "text": [
      "Crowd agrees with expert consensus 69.2% of the time\n",
      "Experts agree with the expert consensus 77.8% of the time\n"
     ]
    },
    {
     "data": {
      "image/png": "[encoded data removed]",
      "text/plain": [
       "<Figure size 300x300 with 1 Axes>"
      ]
     },
     "metadata": {},
     "output_type": "display_data"
    }
   ],
   "source": [
    "crowd_agree = sum(reduced['Consensus']=='yes')/len(reduced)\n",
    "expert_agree = np.mean(reduced['Expert Agreement'])\n",
    "print(f'Crowd agrees with expert consensus {round(crowd_agree*100,1)}% of the time')\n",
    "print(f'Experts agree with the expert consensus {round(expert_agree*100,1)}% of the time')\n",
    "plt.figure(figsize=(3,3))\n",
    "plt.bar(['Crowd Agrees', 'Expert Agrees'], [crowd_agree, expert_agree], 0.6)\n",
    "plt.title('Agreement With Expert Consensus', pad = 15)\n",
    "plt.show()"
   ]
  },
  {
   "cell_type": "markdown",
   "id": "081057fd",
   "metadata": {},
   "source": [
    "This is not what we want, but could be affected by instances where the experts or crowd are undecided. Right now, these instances are marked as overall disagreements between the crowd and experts."
   ]
  },
  {
   "cell_type": "markdown",
   "id": "4ee3d35f",
   "metadata": {},
   "source": [
    "### Crowd Accuracy as a Function of Expert Agreement"
   ]
  },
  {
   "cell_type": "code",
   "execution_count": 14,
   "id": "04d99f27",
   "metadata": {},
   "outputs": [
    {
     "name": "stdout",
     "output_type": "stream",
     "text": [
      "{0.5: 0.8268833333333334, 0.625: 0.8594582069430401, 0.75: 0.8753985825177184, 0.875: 0.8863188771222053, 1.0: 0.9311936459909229}\n",
      "{0.5: 0.0, 0.625: 0.6488333333333334, 0.75: 0.748, 0.875: 0.7991666666666667, 1.0: 0.9168333333333333}\n"
     ]
    },
    {
     "data": {
      "image/png": "[encoded data removed]",
      "text/plain": [
       "<Figure size 800x400 with 2 Axes>"
      ]
     },
     "metadata": {},
     "output_type": "display_data"
    }
   ],
   "source": [
    "reduced\n",
    "agreements = [4/8, 5/8, 6/8, 7/8, 8/8]\n",
    "tracker = {}\n",
    "y = {}\n",
    "for val in agreements:\n",
    "    idx = reduced['Expert Agreement'] == float(val)\n",
    "    tracker[val] = np.mean(reduced[idx]['Crowd Agreement'])\n",
    "    y[val] = sum(reduced[idx]['Correct Label'] == reduced[idx]['Majority Label'])/len(reduced[idx])\n",
    "print(tracker)\n",
    "print(y)\n",
    "\n",
    "fig, (ax1, ax2) = plt.subplots(1, 2, figsize=(8,4))\n",
    "ax1.set\n",
    "ax1.scatter(tracker.keys(), tracker.values())\n",
    "ax1.set_xlabel('Expert Agreement')\n",
    "ax1.set_ylabel('Crowd Agreement')\n",
    "ax1.set_xticks(list(y.keys()))\n",
    "ax2.scatter(list(y.keys())[1:], list(y.values())[1:])\n",
    "ax2.set_xlabel('Expert Agreement')\n",
    "ax2.set_ylabel('Crowd Accuracy')\n",
    "ax2.set_xticks(list(y.keys())[1:])\n",
    "fig.tight_layout(pad=3)\n",
    "plt.show()"
   ]
  },
  {
   "cell_type": "markdown",
   "id": "b1384aa5",
   "metadata": {},
   "source": [
    "**It is apparent that the crowd agreement and accuracy has a strong positive correlation with expert agreement**"
   ]
  },
  {
   "cell_type": "markdown",
   "id": "0a20f6c2",
   "metadata": {},
   "source": [
    "### Importance of Difficulty\n",
    "\n",
    "- **Find out who is most confident at different difficulty levels**\n",
    "    - Split the data into quantiles based on difficulty\n",
    "    - Analyze each quantile for both experts and the crowd\n",
    "    - Compare confidence levels"
   ]
  },
  {
   "cell_type": "code",
   "execution_count": 15,
   "id": "a62abd4e",
   "metadata": {},
   "outputs": [],
   "source": [
    "diffs = list(reduced['Difficulty'].unique())\n",
    "del diffs[1]\n",
    "np.quantile(diffs,1/3)\n",
    "\n",
    "idx_easy = reduced['Difficulty'] <= np.quantile(diffs,1/4)\n",
    "idx_mod_easy1 = reduced['Difficulty'] <= np.quantile(diffs,1/2)\n",
    "idx_mod_easy2 = reduced['Difficulty'] > np.quantile(diffs,1/4)\n",
    "idx_mod_easy = idx_mod_easy1 * idx_mod_easy2\n",
    "idx_mod_hard1 = reduced['Difficulty'] <= np.quantile(diffs,3/4)\n",
    "idx_mod_hard2 = reduced['Difficulty'] > np.quantile(diffs,1/2)\n",
    "idx_mod_hard = idx_mod_hard1 * idx_mod_hard2\n",
    "idx_hard = reduced['Difficulty'] > np.quantile(diffs,3/4)\n",
    "\n",
    "easy = reduced[idx_easy]\n",
    "mod_easy = reduced[idx_mod_easy]\n",
    "mod_hard = reduced[idx_mod_hard]\n",
    "hard = reduced[idx_hard]\n",
    "\n",
    "splits = {'Easy':easy, 'Mod. Easy': mod_easy, 'Mod. Difficult': mod_hard, 'Difficult':hard}"
   ]
  },
  {
   "cell_type": "code",
   "execution_count": 16,
   "id": "4c174e06",
   "metadata": {},
   "outputs": [
    {
     "name": "stdout",
     "output_type": "stream",
     "text": [
      "Expert average agreement on Easy cases: 0.839977944125117\n",
      "Crowd average agreement on Easy cases: 0.9750197166154256\n",
      "Expert average agreement on Mod. Easy cases: 0.793194640338505\n",
      "Crowd average agreement on Mod. Easy cases: 0.6870567700987306\n",
      "Expert average agreement on Mod. Difficult cases: 0.7691734921816828\n",
      "Crowd average agreement on Mod. Difficult cases: 0.5629657483246462\n",
      "Expert average agreement on Difficult cases: 0.7404932803909591\n",
      "Crowd average agreement on Difficult cases: 0.9319349419670129\n"
     ]
    }
   ],
   "source": [
    "crowd = {}\n",
    "experts = {}\n",
    "for key, df in splits.items():\n",
    "    expert_agreement = np.mean(df['Expert Agreement'])\n",
    "    crowd_agreement = np.mean(df['Crowd Agreement'])\n",
    "    experts[key] = expert_agreement\n",
    "    crowd[key] = crowd_agreement\n",
    "    print(f'Expert average agreement on {key} cases: {expert_agreement}')\n",
    "    print(f'Crowd average agreement on {key} cases: {crowd_agreement}')"
   ]
  },
  {
   "cell_type": "code",
   "execution_count": 17,
   "id": "bdb94524",
   "metadata": {},
   "outputs": [
    {
     "data": {
      "image/png": "[encoded data removed]",
      "text/plain": [
       "<Figure size 640x480 with 1 Axes>"
      ]
     },
     "metadata": {},
     "output_type": "display_data"
    }
   ],
   "source": [
    "x = np.arange(4)\n",
    "y1 = crowd.values()\n",
    "y2 = experts.values()\n",
    "width = 0.4\n",
    "  \n",
    "plt.bar(x-0.2, y1, width)\n",
    "plt.bar(x+0.2, y2, width)\n",
    "plt.xticks([0, 1, 2, 3],splits.keys())\n",
    "plt.ylabel('Agreement')\n",
    "plt.legend(['Crowd','Experts'])\n",
    "plt.show()"
   ]
  },
  {
   "cell_type": "markdown",
   "id": "e8de26ef",
   "metadata": {},
   "source": [
    "**It appears the crowd has the advantage on the easiest and most difficult cases. The experts seem to have the advantage on the intermediate difficulty cases.**"
   ]
  },
  {
   "cell_type": "markdown",
   "id": "1c7e2bb9",
   "metadata": {},
   "source": [
    "### Crowd vs Experts Depending on Size of Crowd\n",
    "\n",
    "- **Seperate the data based on qualified reads**\n",
    "    - Look for a correlation in confidence based on number of reads\n",
    "    - Compare confidence levels to experts"
   ]
  },
  {
   "cell_type": "code",
   "execution_count": 18,
   "id": "3dd51846",
   "metadata": {},
   "outputs": [],
   "source": [
    "reads = reduced['Qualified Reads'].unique()"
   ]
  },
  {
   "cell_type": "code",
   "execution_count": 19,
   "id": "f9fdc55f",
   "metadata": {},
   "outputs": [],
   "source": [
    "reads.sort()\n",
    "tracker = {}\n",
    "for num in reads[1:]:\n",
    "    selected = reduced[reduced['Qualified Reads'] == num]\n",
    "    tracker[num] = (np.mean(selected['Crowd Agreement']), np.mean(selected['Expert Agreement']))"
   ]
  },
  {
   "cell_type": "code",
   "execution_count": 20,
   "id": "83bbb21c",
   "metadata": {},
   "outputs": [
    {
     "data": {
      "text/plain": [
       "{1: (1.0, 0.7907633242999097),\n",
       " 2: (0.8742063492063492, 0.8009920634920635),\n",
       " 3: (0.8837517730496454, 0.8054570527974784),\n",
       " 4: (0.8728307414919991, 0.8047667342799188),\n",
       " 5: (0.8764166470726547, 0.7946155654831883),\n",
       " 6: (0.8787399831885682, 0.7902773886242646),\n",
       " 7: (0.8800429184549357, 0.7700936402653141),\n",
       " 8: (0.8777295632698768, 0.7338325867861142),\n",
       " 9: (0.8745561497326203, 0.7042112299465241),\n",
       " 10: (0.8706284153005464, 0.6613729508196722),\n",
       " 11: (0.8533525179856115, 0.624400479616307),\n",
       " 12: (0.8452666666666665, 0.6029761904761904),\n",
       " 13: (0.8341538461538461, 0.5653846153846154),\n",
       " 14: (0.8405892857142857, 0.5691964285714286),\n",
       " 15: (0.8039393939393941, 0.5227272727272727),\n",
       " 16: (0.7740769230769231, 0.5288461538461539),\n",
       " 18: (0.8886666666666666, 0.5)}"
      ]
     },
     "execution_count": 20,
     "metadata": {},
     "output_type": "execute_result"
    }
   ],
   "source": [
    "tracker"
   ]
  },
  {
   "cell_type": "markdown",
   "id": "12508fac",
   "metadata": {},
   "source": [
    "**Now I will separate it into 3 groups: Small Crowd, Medium Crowd, and Big Crowd**"
   ]
  },
  {
   "cell_type": "code",
   "execution_count": 21,
   "id": "7f666722",
   "metadata": {},
   "outputs": [],
   "source": [
    "small_idx = reduced['Qualified Reads'] <= 6\n",
    "medium_idx1 = reduced['Qualified Reads'] > 6\n",
    "medium_idx2 = reduced['Qualified Reads'] <= 12\n",
    "medium_idx = medium_idx1 * medium_idx2\n",
    "big_idx = reduced['Qualified Reads'] > 12\n",
    "\n",
    "small = reduced[small_idx]\n",
    "medium = reduced[medium_idx]\n",
    "big = reduced[big_idx]\n",
    "\n",
    "splits = {'Small Crowd':small, 'Medium Crowd': medium, 'Big Crowd': big}"
   ]
  },
  {
   "cell_type": "code",
   "execution_count": 22,
   "id": "3e4bd566",
   "metadata": {},
   "outputs": [
    {
     "name": "stdout",
     "output_type": "stream",
     "text": [
      "Expert average agreement on Small Crowd cases: 0.7987647353900176\n",
      "Crowd average agreement on Small Crowd cases: 0.8841119179403849\n",
      "Expert average agreement on Medium Crowd cases: 0.7241032210834554\n",
      "Crowd average agreement on Medium Crowd cases: 0.8748288433382138\n",
      "Expert average agreement on Big Crowd cases: 0.5574468085106383\n",
      "Crowd average agreement on Big Crowd cases: 0.8288170212765957\n"
     ]
    }
   ],
   "source": [
    "crowd = {}\n",
    "experts = {}\n",
    "for key, df in splits.items():\n",
    "    expert_agreement = np.mean(df['Expert Agreement'])\n",
    "    crowd_agreement = np.mean(df['Crowd Agreement'])\n",
    "    experts[key] = expert_agreement\n",
    "    crowd[key] = crowd_agreement\n",
    "    print(f'Expert average agreement on {key} cases: {expert_agreement}')\n",
    "    print(f'Crowd average agreement on {key} cases: {crowd_agreement}')"
   ]
  },
  {
   "cell_type": "code",
   "execution_count": 23,
   "id": "d5824bc1",
   "metadata": {},
   "outputs": [
    {
     "data": {
      "image/png": "[encoded data removed]",
      "text/plain": [
       "<Figure size 640x480 with 1 Axes>"
      ]
     },
     "metadata": {},
     "output_type": "display_data"
    }
   ],
   "source": [
    "x = np.arange(3)\n",
    "y1 = crowd.values()\n",
    "y2 = experts.values()\n",
    "width = 0.4\n",
    "  \n",
    "plt.bar(x-0.2, y1, width)\n",
    "plt.bar(x+0.2, y2, width)\n",
    "plt.xticks([0, 1, 2],splits.keys())\n",
    "plt.ylabel('Agreement')\n",
    "plt.legend(['Crowd','Experts'])\n",
    "plt.show()"
   ]
  },
  {
   "cell_type": "markdown",
   "id": "1e2bcc6b",
   "metadata": {},
   "source": [
    "**It seems that the crowd is always more confident than the experts regardless of the crowd size. The biggest separation between the crowd confidence and experts confidence is when there are a high number of qualified reads.**"
   ]
  }
 ],
 "metadata": {
  "kernelspec": {
   "display_name": "Python 3 (ipykernel)",
   "language": "python",
   "name": "python3"
  },
  "language_info": {
   "codemirror_mode": {
    "name": "ipython",
    "version": 3
   },
   "file_extension": ".py",
   "mimetype": "text/x-python",
   "name": "python",
   "nbconvert_exporter": "python",
   "pygments_lexer": "ipython3",
   "version": "3.11.2"
  }
 },
 "nbformat": 4,
 "nbformat_minor": 5
}
